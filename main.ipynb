{
 "cells": [
  {
   "cell_type": "markdown",
   "id": "420174b6-7842-4e37-9753-fa66c55661e3",
   "metadata": {},
   "source": [
    "# Data Extraction from PDF Using Python + Probability Theory Application\n",
    "<div style=\"text-align: justify\">\n",
    "The purpose of this project is to take real action on a data-driven project. The project isn't complex at all, but it's sufficient for demonstrating my original intention to apply some basic Statistics and Probability Theory to real-world data. Additionally, by taking real action, I anticipate to encounter more challenges, which will allow even the simpler project to showcase various aspects of my skills and my problem-solving capabilities."
   ]
  },
  {
   "cell_type": "markdown",
   "id": "d861cf47-ca2a-4f8e-9775-b3e51896f30b",
   "metadata": {},
   "source": [
    "## Environment Management\n",
    "Please read the project's README for instructions on how to set up the project's environment on your computer. "
   ]
  },
  {
   "cell_type": "code",
   "execution_count": null,
   "id": "08dfeceb-6f76-4c23-9f6a-87697d8d9137",
   "metadata": {},
   "outputs": [],
   "source": [
    "# Ensure Jupiter is working at the correct environment to avoid conflicts:\n",
    "import sys\n",
    "sys.executable"
   ]
  },
  {
   "cell_type": "markdown",
   "id": "aced096c-39f8-430f-842f-64373541aa8e",
   "metadata": {},
   "source": [
    "## Table Exctraction from PDF\n",
    "<div style=\"text-align: justify\">\n",
    "The table of interest is the B1 PDF table and located at page 3. Tabula library's results weren't as good as camelot library's results. For this reason, I chose camelot for the pdf's page 3 table extraction. This library also requires PyPDF2 library which is a library for text extraction from pdfs. However, PyPDF2 can't extract the tables separately from the text and hence it doesn't offer a solution on its own for this kind of problems. "
   ]
  },
  {
   "cell_type": "code",
   "execution_count": null,
   "id": "8b18ff08-d7ba-40c5-93ac-9912e693cc66",
   "metadata": {},
   "outputs": [],
   "source": [
    "import pandas as pd  # For data manipulation and analysis.\t\n",
    "\n",
    "# Libraries for PDF data extraction:\n",
    "import camelot\n",
    "import PyPDF2"
   ]
  },
  {
   "cell_type": "code",
   "execution_count": null,
   "id": "d81d524d-3721-4354-8fcd-fa00c7f6b092",
   "metadata": {},
   "outputs": [],
   "source": [
    "# Relative path to the pdf file:\n",
    "pdf_path = \"CDS_2017_2018_Hamilton.pdf\"\n",
    "\n",
    "# Extract only the page 3 tables from the PDF with 'lattice' option:\n",
    "tables = camelot.read_pdf(pdf_path, pages=\"3-3\", flavor=\"lattice\")"
   ]
  },
  {
   "cell_type": "code",
   "execution_count": null,
   "id": "1ba73247-5a58-4ea6-add3-f9393351e546",
   "metadata": {},
   "outputs": [],
   "source": [
    "# Check all elements of 'tables' variable:\n",
    "for table in tables:\n",
    "    print(table.df)"
   ]
  },
  {
   "cell_type": "markdown",
   "id": "14466a16-b1fb-4d85-8d6a-dbfdce5961e6",
   "metadata": {},
   "source": [
    "<div style=\"text-align: justify\">\n",
    "The result of the 'tables' variable isn't very useful as it doesn't directly indicate how many tables were extracted. However, we know that page 3 of the PDF includes <strong>3 tables</strong> and the B1 table (the first table) is the table of interest. Let's investigate further!"
   ]
  },
  {
   "cell_type": "code",
   "execution_count": null,
   "id": "b7de9da4-26c8-402c-b275-47631aacfab5",
   "metadata": {},
   "outputs": [],
   "source": [
    "# Check how many tables extracted from page 3, hoping to see '3' as an answer:\n",
    "print(len(tables))"
   ]
  },
  {
   "cell_type": "markdown",
   "id": "15ad433d-fd6f-449d-8de3-e008fdf24761",
   "metadata": {},
   "source": [
    "Since the number of elements inside 'tables' list is correct, the last step is to check how these elements are separated."
   ]
  },
  {
   "cell_type": "code",
   "execution_count": null,
   "id": "9066824e-1781-47aa-9670-fdb1253c728d",
   "metadata": {},
   "outputs": [],
   "source": [
    "# Check the first element of the variable 'tables':\n",
    "print(tables[0].df)"
   ]
  },
  {
   "cell_type": "markdown",
   "id": "5bb3a654-80b2-4f1c-bf7a-4e80e29aafac",
   "metadata": {},
   "source": [
    "Indeed, the first element of the 'tables' list includes all data of the B1 table!!!"
   ]
  },
  {
   "cell_type": "code",
   "execution_count": null,
   "id": "4fbaee15-e965-418f-b560-07722452adcf",
   "metadata": {},
   "outputs": [],
   "source": [
    "# Check if the extraction was accurate:\n",
    "print(tables[0].parsing_report)"
   ]
  },
  {
   "cell_type": "code",
   "execution_count": null,
   "id": "b615dcb1-98fb-497c-ae2c-ff1e91fbe9e3",
   "metadata": {},
   "outputs": [],
   "source": [
    "# Assign the B1 pdf's table to a variable:\n",
    "b1_table = tables[0].df"
   ]
  },
  {
   "cell_type": "markdown",
   "id": "9601ac93-7e59-43a9-96af-b1c4e562a8e2",
   "metadata": {},
   "source": [
    "## Extracted Data Cleaning"
   ]
  },
  {
   "cell_type": "code",
   "execution_count": null,
   "id": "3ae84faf-4d91-4a07-913d-3352a8eaa398",
   "metadata": {},
   "outputs": [],
   "source": [
    "# This is already a df:\n",
    "type(b1_table)"
   ]
  },
  {
   "cell_type": "code",
   "execution_count": null,
   "id": "89b33e9c-4e60-45f4-b1c7-9f4b54b3b790",
   "metadata": {},
   "outputs": [],
   "source": [
    "print(b1_table.shape)\n",
    "b1_table"
   ]
  },
  {
   "cell_type": "code",
   "execution_count": null,
   "id": "502b735f-ef3a-4595-abe4-584b4e8f3ab6",
   "metadata": {},
   "outputs": [],
   "source": [
    "# Set the correct column names:\n",
    "b1_table.columns = [\"studies_info\", \"men_fulltime\", \"women_fulltime\", \"men_parttime\", \"women_parttime\"]\n",
    "\n",
    "# Drop observations 0 and 1 (first two rows):\n",
    "b1_table = b1_table.drop([0, 1], axis=0)\n",
    "b1_table"
   ]
  },
  {
   "cell_type": "markdown",
   "id": "52e1c924-4dda-49eb-a83f-f51f22244390",
   "metadata": {},
   "source": [
    "<div style=\"text-align: justify\">\n",
    "A good progress has been made and the information of the original B1 pdf table seems to be shown here in a clear way.  \n",
    "The next step is to interpret the missing values of the table. The table attempts to present information for two basic categories of students, undergraduates (bachelor) and graduates (higher education level). The empty values of second category probably means that Hamilton Collegege doesn't offer graduate programs or PHDs, at least at 2017-2018 where this study has been conducted.  \n",
    "For this reason, it is reasonable to drop all these lines."
   ]
  },
  {
   "cell_type": "code",
   "execution_count": null,
   "id": "a59ce519-efce-43f5-a130-4b59c51ad0b6",
   "metadata": {},
   "outputs": [],
   "source": [
    "# Drop rows 9-13:\n",
    "b1_table = b1_table.drop([9, 10, 11, 12, 13], axis=0)\n",
    "b1_table"
   ]
  },
  {
   "cell_type": "markdown",
   "id": "d61d3b77-03ce-48e0-820b-c8ccee73dca5",
   "metadata": {},
   "source": [
    "<div style=\"text-align: justify\">\n",
    "The information of row number 2 should be passed in the column names and then dropped for better data interpretability. The abreviation \"ug\" will be passed instead of the whole word \"undergraduate\"."
   ]
  },
  {
   "cell_type": "code",
   "execution_count": null,
   "id": "9ac6f0b1-9419-438a-ba07-ceafd536b97e",
   "metadata": {},
   "outputs": [],
   "source": [
    "# Set the final column names:\n",
    "b1_table.columns = [\"studies_info\", \"ug_men_fulltime\", \"ug_women_fulltime\", \"ug_men_parttime\", \"ug_women_parttime\"]\n",
    "\n",
    "# Drop final row:\n",
    "b1_table = b1_table.drop(2, axis=0)\n",
    "b1_table"
   ]
  },
  {
   "cell_type": "markdown",
   "id": "462bc7e9-b316-487f-aece-bb3095be2ab0",
   "metadata": {},
   "source": [
    "The emtpy cells left doesn't need further investigation and they should be replaced by zeros, because this is what they represent."
   ]
  },
  {
   "cell_type": "code",
   "execution_count": null,
   "id": "c97381b4-3f53-4750-8fea-379f25439076",
   "metadata": {},
   "outputs": [],
   "source": [
    "# Replace the empty values with 0:\n",
    "b1_table = b1_table.replace('', 0)\n",
    "b1_table"
   ]
  },
  {
   "cell_type": "code",
   "execution_count": null,
   "id": "eca1af5c-fe33-4c6d-bda6-f589d57e6130",
   "metadata": {},
   "outputs": [],
   "source": [
    "# Fixes the indexing:\n",
    "b1_table = b1_table.reset_index(drop=True)\n",
    "b1_table"
   ]
  },
  {
   "cell_type": "code",
   "execution_count": null,
   "id": "159f29a2-9e02-402a-9f81-23aaa03ae771",
   "metadata": {},
   "outputs": [],
   "source": [
    "# Replace commas wherever is needed to:\n",
    "b1_table = b1_table.replace(\",\", \"\", regex=True)\n",
    "b1_table"
   ]
  },
  {
   "cell_type": "code",
   "execution_count": null,
   "id": "558b72be-9c52-4b5f-a61e-87e93e15b89a",
   "metadata": {},
   "outputs": [],
   "source": [
    "# Replace the line brakes wherever is needed to:\n",
    "b1_table = b1_table.replace(\"\\n\", \"\", regex=True)\n",
    "b1_table"
   ]
  },
  {
   "cell_type": "markdown",
   "id": "7640dfe7-46ed-4136-967e-569cdd913397",
   "metadata": {},
   "source": [
    "<div style=\"text-align: justify\">\n",
    "This is the final result and the table data seem to be tidy. The very last step is to ensure the table columns dtypes. Of course, this isn't a typical df where the rows represent observations. Here the rows represent undergraduate students' studies information categories. However, this isn't affecting the original intentions of this project in any way."
   ]
  },
  {
   "cell_type": "code",
   "execution_count": null,
   "id": "f59220d0-19a4-421a-b02c-ef5f4aceb2d2",
   "metadata": {},
   "outputs": [],
   "source": [
    "# The table contains wrong column dtypes:\n",
    "b1_table.info()"
   ]
  },
  {
   "cell_type": "code",
   "execution_count": null,
   "id": "acea848b-6b4b-401d-9873-96bb50227621",
   "metadata": {},
   "outputs": [],
   "source": [
    "# Correct the columns dtype:\n",
    "b1_table[\n",
    "[\n",
    "    \"ug_men_fulltime\", \n",
    "    \"ug_women_fulltime\", \n",
    "    \"ug_men_parttime\", \n",
    "    \"ug_women_parttime\"\n",
    "]\n",
    "] = b1_table[[\"ug_men_fulltime\", \"ug_women_fulltime\", \"ug_men_parttime\", \"ug_women_parttime\"]].astype(int)\n",
    "b1_table.info()"
   ]
  },
  {
   "cell_type": "markdown",
   "id": "23c30c6a-3520-4f39-8b2a-4a4b821400a0",
   "metadata": {},
   "source": [
    "## Basic Statistics and Probability Theory Application\n",
    "This section is for the purpose of Statistics and Probability Theory, fulfilling the original intention of this project. The main goal is to demonstrate some basic knowledge of probability theory using Jupyter Notebook and Markdown syntax."
   ]
  },
  {
   "cell_type": "markdown",
   "id": "74f65a88-f8d4-4edd-bbbb-d15fa5533bda",
   "metadata": {},
   "source": [
    "__<br>\n",
    "What is the sample space of Hamilton College students? What are the favorable outcomes of being a male and being a female?__"
   ]
  },
  {
   "cell_type": "markdown",
   "id": "52f629b6-f29d-481b-a78c-c680c02d4e59",
   "metadata": {},
   "source": [
    "The total sample space of Hamilton College students is $Ω = 1897$, whereas the favorable outcomes of being a male are $N_{M} = 888$ and the favorable outcomes of being a female are $N_{F} = 1009$."
   ]
  },
  {
   "cell_type": "markdown",
   "id": "12e5b349-4c42-47fa-9763-39017a4dbf7e",
   "metadata": {},
   "source": [
    "__What are the probabilities of choosing a male and a female student from the sample space?__"
   ]
  },
  {
   "cell_type": "markdown",
   "id": "eb9cb0c2-00e5-46cb-b98b-f667fbd669c3",
   "metadata": {},
   "source": [
    "From the classical definition of probability, the probability of choosing a male student out of the sample space is $P_{MALE}=\\frac{N_{M}}{Ω}=0.4681$, whereas the corresponding probability of being a female is $P_{FEMALE}=\\frac{N_{F}}{Ω}=0.5319$."
   ]
  },
  {
   "cell_type": "markdown",
   "id": "34809c0a-359e-41b4-8a28-a8406141b246",
   "metadata": {},
   "source": [
    "__What is the likelihood of being both a female and a freshman?__"
   ]
  },
  {
   "cell_type": "markdown",
   "id": "0c9213c1-7b2f-4895-8624-7e77a294e787",
   "metadata": {},
   "source": [
    "This is the intersection, $P(Female∩Freshman)$ and equals to $263/1897$, so, $P(Female∩Freshman)=0.1386$."
   ]
  },
  {
   "cell_type": "markdown",
   "id": "78b7e3f5-de77-4c5f-b7e8-a5472d9c4278",
   "metadata": {},
   "source": [
    "__What is the probability of someone being a freshman?__"
   ]
  },
  {
   "cell_type": "markdown",
   "id": "89c16ca5-5063-4fa9-a0db-d5675b822c7e",
   "metadata": {},
   "source": [
    "The probability of someone being a freshman is $P_{FRESHMAN}=0.253$."
   ]
  },
  {
   "cell_type": "markdown",
   "id": "174d99e6-4b25-4766-a0ea-299e4a9283ef",
   "metadata": {},
   "source": [
    "__What is the likelihood of someone being a female, given that the same person is a freshman?__"
   ]
  },
  {
   "cell_type": "markdown",
   "id": "95f2549e-ac83-4e76-9af3-09f88c83ff2e",
   "metadata": {},
   "source": [
    "This is the conditional probability:  \n",
    "$$P(Female∣Freshman)=\\frac{P(Female∩Freshman)}{P_{FRESHMAN}}=0.5478$$"
   ]
  },
  {
   "cell_type": "markdown",
   "id": "bfbc1676-f4b3-4ac7-bb52-cdb56b19962f",
   "metadata": {},
   "source": [
    "**How was $P_{FRESHMAN}=0.253$ calculated?**"
   ]
  },
  {
   "cell_type": "markdown",
   "id": "4bbb9ae1-0324-4a7f-a6f0-fae7734c5cfe",
   "metadata": {},
   "source": [
    "<div style=\"text-align: justify\">\n",
    "Well, this is an event union case where: \n",
    "$$P_{FRESHMAN}=P(Female∩Freshman)+P(Male∩Freshman)-P((Female∩Freshman)∩(Male∩Freshman))$$  \n",
    "Since, $P((Female∩Freshman)∩(Male∩Freshman))=Ø$, because they are mutually exclusive events (a person can't be a male and a female simultaneously):  \n",
    "$$P_{FRESHMAN}=\\frac{263}{1897}+\\frac{217}{1897}=0.253$$"
   ]
  },
  {
   "cell_type": "markdown",
   "id": "73e86d5c-c912-40e5-a32f-e63b0222c449",
   "metadata": {},
   "source": [
    "__<div style=\"text-align: justify\">\n",
    "What is the probability of being a male, given that the same person is not a freshman? How is it compared with a not freshman student, given that he is a male?__"
   ]
  },
  {
   "cell_type": "markdown",
   "id": "37595309-8c5b-43b6-a1c8-1e8e570808b3",
   "metadata": {},
   "source": [
    "<div style=\"text-align: justify\">\n",
    "The number of male students who are not freshmen equals to $N_{MALENOTFRESHMAN}=671$. The probability can be quickly calculated by dividing this number with the sample space $Ω-N_{FRESHMAN}$, but, let's find the same probability applying some probability theory in the same way as before. The probability that should be calculated is the conditional probability $P(Male∣NotFreshman)$:  \n",
    "$$P(Male∣NotFreshman)=\\frac{P(Male∩NotFreshman)}{P_{NOTFRESHMAN}}=\\frac{\\frac{671}{1897}}{\\frac{1417}{1897}}=0.4735$$"
   ]
  },
  {
   "cell_type": "markdown",
   "id": "0d8ee421-7d50-42fc-9d70-58b2c6bad4e3",
   "metadata": {},
   "source": [
    "<div style=\"text-align: justify\">\n",
    "To compare $P(Male∣NotFreshman)$ with $P(NotFreshman∣Male)$ the Bayes' theorem will be used:  \n",
    "$$P(NotFreshman∣Male)=\\frac{P(Male∣NotFreshman)P_{NOTFRESHMAN}}{P_{MALE}}=\\frac{0.4735*0.7469}{0.4681}=0.7555$$"
   ]
  }
 ],
 "metadata": {
  "kernelspec": {
   "display_name": "Python 3 (ipykernel)",
   "language": "python",
   "name": "python3"
  },
  "language_info": {
   "codemirror_mode": {
    "name": "ipython",
    "version": 3
   },
   "file_extension": ".py",
   "mimetype": "text/x-python",
   "name": "python",
   "nbconvert_exporter": "python",
   "pygments_lexer": "ipython3",
   "version": "3.11.8"
  }
 },
 "nbformat": 4,
 "nbformat_minor": 5
}
